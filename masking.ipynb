{
 "cells": [
  {
   "cell_type": "markdown",
   "metadata": {},
   "source": [
    "## Data Annotation and Masking"
   ]
  },
  {
   "cell_type": "code",
   "execution_count": 1,
   "metadata": {},
   "outputs": [],
   "source": [
    "import json\n",
    "import numpy as np\n",
    "import cv2\n",
    "import glob\n",
    "import os\n",
    "import matplotlib.pyplot as plt\n",
    "\n"
   ]
  },
  {
   "cell_type": "code",
   "execution_count": 2,
   "metadata": {},
   "outputs": [
    {
     "name": "stdout",
     "output_type": "stream",
     "text": [
      "Found 6005 JSON files.\n"
     ]
    }
   ],
   "source": [
    "json_folder = \"C:/Users/Ali Akbar/Desktop/DeepDataSet/SegmentationDataSet/json\"\n",
    "json_files = glob.glob(os.path.join(json_folder, \"*.json\"))\n",
    "\n",
    "print(f\"Found {len(json_files)} JSON files.\")\n",
    "\n"
   ]
  },
  {
   "cell_type": "code",
   "execution_count": 3,
   "metadata": {},
   "outputs": [],
   "source": [
    "i = 1\n",
    "for json_file in json_files:\n",
    "    contours = []\n",
    "    with open(json_file, \"r\") as file:\n",
    "        data = json.load(file)\n",
    "    if i==1:\n",
    "        break"
   ]
  },
  {
   "cell_type": "code",
   "execution_count": 11,
   "metadata": {},
   "outputs": [
    {
     "data": {
      "text/plain": [
       "[[530.0, 387.5],\n",
       " [522.0, 387.5],\n",
       " [514.0, 381.5],\n",
       " [504.5, 366.0],\n",
       " [502.5, 359.0],\n",
       " [502.5, 350.0],\n",
       " [505.5, 344.0],\n",
       " [512.0, 339.5],\n",
       " [520.0, 339.5],\n",
       " [525.0, 341.5],\n",
       " [533.5, 350.0],\n",
       " [539.5, 361.0],\n",
       " [539.5, 377.0],\n",
       " [536.5, 383.0]]"
      ]
     },
     "execution_count": 11,
     "metadata": {},
     "output_type": "execute_result"
    }
   ],
   "source": [
    "data['shapes'][0]['points']"
   ]
  },
  {
   "cell_type": "code",
   "execution_count": null,
   "metadata": {},
   "outputs": [],
   "source": [
    "# Loop through each JSON file and process it\n",
    "for json_file in json_files:\n",
    "    contours = []\n",
    "    with open(json_file, \"r\") as file:\n",
    "        data = json.load(file)\n",
    "\n",
    "        image_path = data[\"imagePath\"]\n",
    "        image_height = data[\"imageHeight\"]\n",
    "        image_width = data[\"imageWidth\"]\n",
    "\n",
    "        # print(f\"\\nImage: {image_path}, Size: {image_width}x{image_height}\")\n",
    "\n",
    "        for i in data['shapes']:\n",
    "            contours.append(np.array(i['points'], dtype=np.int32))\n",
    "\n",
    "        mask = np.zeros((image_height, image_width))\n",
    "        for j in contours:\n",
    "            cv2.drawContours(mask, [j], -1, 255, -1)\n",
    "        save_path = os.path.join(\"C:/Users/Ali Akbar/Desktop/DeepDataSet/SegmentationDatn\", image_path)\n",
    "        cv2.imwrite(save_path, mask)"
   ]
  },
  {
   "cell_type": "code",
   "execution_count": 12,
   "metadata": {},
   "outputs": [],
   "source": [
    "import numpy as np\n",
    "import cv2\n",
    "\n",
    "# Create a blank mask\n",
    "mask = np.zeros((100, 100), dtype=np.uint8)\n",
    "\n",
    "# Define contour points and reshape properly\n",
    "contour = np.array([[10, 20], [45, 67], [23, 56]], dtype=np.int32).reshape(-1, 1, 2)\n",
    "\n",
    "# Draw the contour\n",
    "cv2.drawContours(mask, [contour], -1, 255, -1)\n",
    "\n",
    "# Display the mask\n",
    "cv2.imshow(\"Mask\", mask)\n",
    "cv2.waitKey(0)\n",
    "cv2.destroyAllWindows()\n"
   ]
  },
  {
   "cell_type": "code",
   "execution_count": null,
   "metadata": {},
   "outputs": [],
   "source": []
  },
  {
   "cell_type": "code",
   "execution_count": null,
   "metadata": {},
   "outputs": [],
   "source": []
  },
  {
   "cell_type": "code",
   "execution_count": null,
   "metadata": {},
   "outputs": [],
   "source": []
  },
  {
   "cell_type": "code",
   "execution_count": 10,
   "metadata": {},
   "outputs": [],
   "source": []
  },
  {
   "cell_type": "code",
   "execution_count": null,
   "metadata": {},
   "outputs": [],
   "source": []
  }
 ],
 "metadata": {
  "kernelspec": {
   "display_name": "Python 3",
   "language": "python",
   "name": "python3"
  },
  "language_info": {
   "codemirror_mode": {
    "name": "ipython",
    "version": 3
   },
   "file_extension": ".py",
   "mimetype": "text/x-python",
   "name": "python",
   "nbconvert_exporter": "python",
   "pygments_lexer": "ipython3",
   "version": "3.8.3"
  }
 },
 "nbformat": 4,
 "nbformat_minor": 4
}
